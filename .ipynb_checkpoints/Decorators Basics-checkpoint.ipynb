{
 "cells": [
  {
   "cell_type": "markdown",
   "metadata": {},
   "source": [
    "# Decorators\n",
    "\n",
    "## - Adding functionality to an existing code.\n",
    "## - A decorator takes in a function, adds some functionality and returns it\n",
    "## - Decorators wrap a function and modifies its behavior.\n",
    "## - A decorator is a function that receives another function as argument. The behaviour of the argument function is extended by the decorator without actually modifying it."
   ]
  },
  {
   "cell_type": "markdown",
   "metadata": {},
   "source": [
    "# Ex 1"
   ]
  },
  {
   "cell_type": "code",
   "execution_count": 1,
   "metadata": {},
   "outputs": [
    {
     "name": "stdout",
     "output_type": "stream",
     "text": [
      "func not called\n",
      "I am normal\n",
      "now func called\n"
     ]
    }
   ],
   "source": [
    "def decor(func):\n",
    "    def inner():\n",
    "        print(\"func not called\")\n",
    "        func()\n",
    "        print(\"now func called\")\n",
    "    return inner\n",
    "\n",
    "def normal():\n",
    "    print(\"I am normal\")\n",
    "\n",
    "obj = decor(normal) # Decorate a function\n",
    "obj()"
   ]
  },
  {
   "cell_type": "markdown",
   "metadata": {},
   "source": [
    "## decor() is the decorator function, inner() is the wrapper. Always return the wrapper function. i.e inner functions\n",
    "## Inner functions (inner()) is/are defined when the parent (decor()) function is called.\n",
    "## A decorator function decor(normal) which has only the reference of normal() and the returned function is given to obj\n",
    "### Normal is not called here\n",
    "\n",
    "## Now call obj()"
   ]
  },
  {
   "cell_type": "markdown",
   "metadata": {},
   "source": [
    "# Using @ symbol"
   ]
  },
  {
   "cell_type": "code",
   "execution_count": 2,
   "metadata": {},
   "outputs": [
    {
     "name": "stdout",
     "output_type": "stream",
     "text": [
      "func not called\n",
      "I am normal\n",
      "now func called\n"
     ]
    }
   ],
   "source": [
    "def decor(func):\n",
    "    def inner():\n",
    "        print(\"func not called\")\n",
    "        func()\n",
    "        print(\"now func called\")\n",
    "    return inner\n",
    "\n",
    "\n",
    "@decor                      # Does the same as obj = decor(normal)\n",
    "def normal():\n",
    "    print(\"I am normal\")\n",
    "\n",
    "normal()"
   ]
  },
  {
   "cell_type": "markdown",
   "metadata": {},
   "source": [
    "# Ex 2"
   ]
  },
  {
   "cell_type": "code",
   "execution_count": 3,
   "metadata": {},
   "outputs": [
    {
     "name": "stdout",
     "output_type": "stream",
     "text": [
      "ashitha\n",
      "l\n"
     ]
    }
   ],
   "source": [
    "def fullname(name):\n",
    "    def lname():\n",
    "        name()\n",
    "        print(\"l\")\n",
    "    \n",
    "    return lname\n",
    "\n",
    "def fname():\n",
    "    print(\"ashitha\")\n",
    "    \n",
    "obj1 = fullname(fname)\n",
    "obj1()"
   ]
  },
  {
   "cell_type": "markdown",
   "metadata": {},
   "source": [
    "# Ex 3"
   ]
  },
  {
   "cell_type": "code",
   "execution_count": 4,
   "metadata": {},
   "outputs": [
    {
     "name": "stdout",
     "output_type": "stream",
     "text": [
      "funct1 took: 0.2007758617401123\n",
      "funct2 took: 0.4007723331451416\n"
     ]
    }
   ],
   "source": [
    "from time import sleep, time\n",
    "\n",
    "def funct1():\n",
    "    sleep(.2)\n",
    "    \n",
    "def funct2():\n",
    "    sleep(.4)\n",
    "\n",
    "def measure(func):\n",
    "    t = time()\n",
    "    func()\n",
    "    print(func.__name__, 'took:', time() - t)\n",
    "\n",
    "measure(funct1)\n",
    "measure(funct2)"
   ]
  },
  {
   "cell_type": "markdown",
   "metadata": {},
   "source": [
    "# Ex 4"
   ]
  },
  {
   "cell_type": "code",
   "execution_count": 5,
   "metadata": {},
   "outputs": [
    {
     "name": "stdout",
     "output_type": "stream",
     "text": [
      "Dividing 4 2\n"
     ]
    },
    {
     "data": {
      "text/plain": [
       "2.0"
      ]
     },
     "execution_count": 5,
     "metadata": {},
     "output_type": "execute_result"
    }
   ],
   "source": [
    "def dec_divide(func):\n",
    "    def inner(a,b):\n",
    "        print(\"Dividing\",a,b)\n",
    "        if b == 0:\n",
    "            print(\"Cannot divide\")\n",
    "            return\n",
    "\n",
    "        return func(a,b)\n",
    "    return inner\n",
    "\n",
    "@dec_divide\n",
    "def divide(a,b):\n",
    "    return a/b\n",
    "\n",
    "divide(4,2)"
   ]
  },
  {
   "cell_type": "markdown",
   "metadata": {},
   "source": [
    "# Ex 5"
   ]
  },
  {
   "cell_type": "code",
   "execution_count": 6,
   "metadata": {},
   "outputs": [
    {
     "name": "stdout",
     "output_type": "stream",
     "text": [
      "**********\n",
      "%%%%%%%%%%\n",
      "Hello\n",
      "%%%%%%%%%%\n",
      "**********\n"
     ]
    }
   ],
   "source": [
    "def dec_star(func):\n",
    "    def inner(*args, **kwargs):  # args is tuple of positional arguments, kwargs will be the dictionary of keyword arguments. \n",
    "        print(\"*\" * 10)\n",
    "        func(*args, **kwargs)\n",
    "        print(\"*\" * 10)\n",
    "    return inner\n",
    "\n",
    "def dec_percent(func):\n",
    "    def inner(*args, **kwargs):\n",
    "        print(\"%\" * 10)\n",
    "        func(*args, **kwargs)\n",
    "        print(\"%\" * 10)\n",
    "    return inner\n",
    "\n",
    "@dec_star\n",
    "@dec_percent                     # func_obj = dec_star(dec_percent(print_msg))\n",
    "def print_msg(msg):\n",
    "    print(msg)\n",
    "    \n",
    "print_msg(\"Hello\")"
   ]
  },
  {
   "cell_type": "markdown",
   "metadata": {},
   "source": [
    "# @property decorator"
   ]
  },
  {
   "cell_type": "markdown",
   "metadata": {},
   "source": [
    "## property() is a built-in function that creates and returns a property object. The syntax of this function is:\n",
    "\n",
    "## property(fget=None, fset=None, fdel=None, doc=None)\n",
    "\n",
    "## fget is function to get value of the attribute\n",
    "## fset is function to set value of the attribute\n",
    "## fdel is function to delete the attribute\n",
    "## doc is a string (like a comment)"
   ]
  },
  {
   "cell_type": "code",
   "execution_count": 7,
   "metadata": {},
   "outputs": [
    {
     "data": {
      "text/plain": [
       "<property at 0x7f921c252408>"
      ]
     },
     "execution_count": 7,
     "metadata": {},
     "output_type": "execute_result"
    }
   ],
   "source": [
    "property() # property object"
   ]
  },
  {
   "cell_type": "markdown",
   "metadata": {},
   "source": [
    "# Ex 6"
   ]
  },
  {
   "cell_type": "code",
   "execution_count": 8,
   "metadata": {},
   "outputs": [
    {
     "name": "stdout",
     "output_type": "stream",
     "text": [
      "Getting value\n",
      "A\n",
      "Setting value to B\n",
      "Deleting value\n"
     ]
    }
   ],
   "source": [
    "class Alphabet: \n",
    "    def __init__(self, value): \n",
    "        self._value = value \n",
    "          \n",
    "    # getting the values     \n",
    "    @property\n",
    "    def value(self): \n",
    "        print('Getting value') \n",
    "        return self._value \n",
    "          \n",
    "    # setting the values     \n",
    "    @value.setter \n",
    "    def value(self, value): \n",
    "        print('Setting value to ' + value) \n",
    "        self._value = value \n",
    "          \n",
    "    # deleting the values \n",
    "    @value.deleter \n",
    "    def value(self): \n",
    "        print('Deleting value') \n",
    "        del self._value \n",
    "  \n",
    "  \n",
    "x = Alphabet('A') \n",
    "print(x.value) \n",
    "  \n",
    "x.value = 'B'\n",
    "  \n",
    "del x.value "
   ]
  },
  {
   "cell_type": "markdown",
   "metadata": {},
   "source": [
    "# Ex 7"
   ]
  },
  {
   "cell_type": "code",
   "execution_count": 9,
   "metadata": {},
   "outputs": [
    {
     "name": "stdout",
     "output_type": "stream",
     "text": [
      "Ashitha\n",
      "25\n",
      "Ashitha obtained 25 marks\n",
      "Setting name as sam\n",
      "sam\n",
      "sam obtained 25 marks\n",
      "Setting name text marks\n",
      "Rachel obtained 36 marks\n",
      "Rachel\n",
      "36\n"
     ]
    }
   ],
   "source": [
    "class Student:\n",
    "    def __init__(self, name, marks):\n",
    "        self.name = name\n",
    "        self.marks = marks\n",
    "\n",
    "    @property\n",
    "    def gotmarks(self):\n",
    "        return self.name + ' obtained ' + self.marks + ' marks'\n",
    "\n",
    "    @gotmarks.setter\n",
    "    def gotmarks(self, sentence):\n",
    "        name, rand, marks = sentence.split(' ')\n",
    "        self.name = name\n",
    "        self.marks = marks\n",
    "\n",
    "\n",
    "st = Student(\"Ashitha\", \"25\")\n",
    "print(st.name)\n",
    "print(st.marks)\n",
    "print(st.gotmarks)\n",
    "print(\"Setting name as sam\")\n",
    "st.name = \"sam\"\n",
    "print(st.name)\n",
    "print(st.gotmarks)\n",
    "print(\"Setting name text marks\")\n",
    "st.gotmarks = 'Rachel obtained 36'\n",
    "print(st.gotmarks)\n",
    "print(st.name)\n",
    "print(st.marks)"
   ]
  },
  {
   "cell_type": "code",
   "execution_count": null,
   "metadata": {},
   "outputs": [],
   "source": []
  },
  {
   "cell_type": "code",
   "execution_count": null,
   "metadata": {},
   "outputs": [],
   "source": []
  }
 ],
 "metadata": {
  "kernelspec": {
   "display_name": "Python 3",
   "language": "python",
   "name": "python3"
  },
  "language_info": {
   "codemirror_mode": {
    "name": "ipython",
    "version": 3
   },
   "file_extension": ".py",
   "mimetype": "text/x-python",
   "name": "python",
   "nbconvert_exporter": "python",
   "pygments_lexer": "ipython3",
   "version": "3.6.3"
  }
 },
 "nbformat": 4,
 "nbformat_minor": 4
}
